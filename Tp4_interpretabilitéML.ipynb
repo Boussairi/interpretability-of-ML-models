{
 "cells": [
  {
   "cell_type": "code",
   "execution_count": 1,
   "id": "4e108519-af4b-40e7-b80a-b6d35e594023",
   "metadata": {},
   "outputs": [],
   "source": [
    "import numpy as np\n",
    "import matplotlib.pyplot as plt\n",
    "from sklearn.datasets import fetch_openml\n",
    "from sklearn.model_selection import train_test_split\n",
    "from sklearn.decomposition import PCA\n",
    "from sklearn.linear_model import LogisticRegression\n",
    "from sklearn.neighbors import KNeighborsClassifier\n",
    "from sklearn.model_selection import GridSearchCV\n",
    "from sklearn.metrics import accuracy_score\n",
    "\n",
    "import warnings\n",
    "warnings.filterwarnings(\"ignore\")"
   ]
  },
  {
   "cell_type": "code",
   "execution_count": 2,
   "id": "7caa6f6e-7e2e-48bd-8762-138e08f8b3c0",
   "metadata": {},
   "outputs": [],
   "source": [
    "mnist = fetch_openml('mnist_784')\n",
    "X = mnist.data\n",
    "y = mnist.target"
   ]
  },
  {
   "cell_type": "code",
   "execution_count": 3,
   "id": "c27c7a1f-c8f9-44a6-acd8-a806255ebb2e",
   "metadata": {},
   "outputs": [
    {
     "data": {
      "text/plain": [
       "(70000, 784)"
      ]
     },
     "execution_count": 3,
     "metadata": {},
     "output_type": "execute_result"
    }
   ],
   "source": [
    "X.shape"
   ]
  },
  {
   "cell_type": "code",
   "execution_count": 4,
   "id": "3529c5fe-239d-460d-b668-083abab2a3da",
   "metadata": {},
   "outputs": [
    {
     "data": {
      "text/plain": [
       "['5', '0', '4', '1', '9', '2', '3', '6', '7', '8']\n",
       "Categories (10, object): ['0', '1', '2', '3', ..., '6', '7', '8', '9']"
      ]
     },
     "execution_count": 4,
     "metadata": {},
     "output_type": "execute_result"
    }
   ],
   "source": [
    "y.unique()"
   ]
  },
  {
   "cell_type": "code",
   "execution_count": 6,
   "id": "633bed90-f940-4c36-ad78-11b95f6ce0e9",
   "metadata": {},
   "outputs": [],
   "source": [
    "# Division en ensembles d'apprentissage et de test\n",
    "X_train, X_test, y_train, y_test = train_test_split(X, y, test_size=0.3, random_state=42)\n"
   ]
  },
  {
   "cell_type": "markdown",
   "id": "4b47ffd1-4ca0-4814-b58d-db6254a0acee",
   "metadata": {},
   "source": [
    "### SANS PCA"
   ]
  },
  {
   "cell_type": "code",
   "execution_count": 7,
   "id": "71b4fafd-6d85-420a-89cf-01296d25c0d2",
   "metadata": {},
   "outputs": [
    {
     "name": "stdout",
     "output_type": "stream",
     "text": [
      "Meilleurs hyperparamètres :  {'n_neighbors': 3}\n",
      "Précision (accuracy) :  0.9686530612244898\n"
     ]
    }
   ],
   "source": [
    "# Définir les hyperparamètres à explorer\n",
    "param_grid = {'n_neighbors': [3, 5, 7, 9]}\n",
    "\n",
    "# Créer un objet KNN\n",
    "knn = KNeighborsClassifier()\n",
    "\n",
    "# Effectuer une recherche de grille avec validation croisée\n",
    "grid_search = GridSearchCV(knn, param_grid, cv=5, n_jobs=-1)\n",
    "grid_search.fit(X_train, y_train)\n",
    "\n",
    "# Afficher les meilleurs hyperparamètres et la précision (accuracy) associée\n",
    "print(\"Meilleurs hyperparamètres : \", grid_search.best_params_)\n",
    "print(\"Précision (accuracy) : \", grid_search.best_score_)"
   ]
  },
  {
   "cell_type": "code",
   "execution_count": 28,
   "id": "4645eb04-98d8-4b25-9f39-5b4d8578ea35",
   "metadata": {},
   "outputs": [
    {
     "name": "stdout",
     "output_type": "stream",
     "text": [
      "Accuracy: 0.9717619047619047\n"
     ]
    }
   ],
   "source": [
    "knn = KNeighborsClassifier(n_neighbors=3, weights='distance', algorithm='auto')\n",
    "\n",
    "# Entraîner le modèle sur l'ensemble de formation\n",
    "knn.fit(X_train, y_train)\n",
    "\n",
    "# Faire des prédictions sur l'ensemble de test\n",
    "y_pred = knn.predict(X_test)\n",
    "\n",
    "# Évaluer les performances du modèle en utilisant la précision (accuracy)\n",
    "accuracy = accuracy_score(y_test, y_pred)\n",
    "\n",
    "print(\"Accuracy:\", accuracy)"
   ]
  },
  {
   "cell_type": "code",
   "execution_count": 19,
   "id": "cd984da5-0340-463b-9e03-e50602f52675",
   "metadata": {},
   "outputs": [
    {
     "name": "stdout",
     "output_type": "stream",
     "text": [
      "Fitting 3 folds for each of 8 candidates, totalling 24 fits\n",
      "Meilleurs hyperparamètres :  {'C': 1, 'penalty': 'l2'}\n",
      "Score sur l'ensemble d'apprentissage :  0.9132244843093368\n",
      "Score sur l'ensemble de test :  0.9196666666666666\n"
     ]
    }
   ],
   "source": [
    "param_grid = [    { 'penalty': ['l1', 'l2'], 'C': [0.01, 0.1, 1, 10]}\n",
    "]\n",
    "\n",
    "# Initialisation de la grille de recherche\n",
    "log_reg = LogisticRegression(random_state=42)\n",
    "grid_search_lg = GridSearchCV(log_reg, param_grid, cv=3, n_jobs=-1, verbose=2)\n",
    "\n",
    "# Entraînement de la grille de recherche\n",
    "grid_search_lg.fit(X_train, y_train)\n",
    "\n",
    "# Meilleurs hyperparamètres et score sur l'ensemble de test\n",
    "best_params = grid_search_lg.best_params_\n",
    "print(\"Meilleurs hyperparamètres : \", best_params)\n",
    "best_score = grid_search_lg.best_score_\n",
    "print(\"Score sur l'ensemble d'apprentissage : \", best_score)\n",
    "test_score = grid_search_lg.score(X_test, y_test)\n",
    "print(\"Score sur l'ensemble de test : \", test_score)"
   ]
  },
  {
   "cell_type": "markdown",
   "id": "d90bf27b-cf88-44c4-86e9-bd8589e3a440",
   "metadata": {},
   "source": [
    "### Maintenant on applique PCA "
   ]
  },
  {
   "cell_type": "markdown",
   "id": "517cf022-0dbc-4737-bfe5-11dba6419430",
   "metadata": {},
   "source": [
    "On tracer la variance expliquée cumulative en fonction du nombre de composantes principales conservées après une réduction de dimensionnalité avec l'analyse en composantes principales (PCA). Cela permet de déterminer le nombre de composantes principales qui capturent la variance des données de manière satisfaisante."
   ]
  },
  {
   "cell_type": "code",
   "execution_count": 21,
   "id": "76305567-9033-4cf6-8c9d-7f5abcf1a040",
   "metadata": {},
   "outputs": [
    {
     "data": {
      "image/png": "[encoded data removed]",
      "text/plain": [
       "<Figure size 640x480 with 1 Axes>"
      ]
     },
     "metadata": {},
     "output_type": "display_data"
    }
   ],
   "source": [
    "pca = PCA().fit(X_train)\n",
    "plt.plot(np.cumsum(pca.explained_variance_ratio_))\n",
    "plt.xlabel('Nombre de composantes principales')\n",
    "plt.ylabel('Variance expliquée cumulative')\n",
    "plt.show()\n"
   ]
  },
  {
   "cell_type": "markdown",
   "id": "95f46ad3-fe22-4a7a-a0ba-11a0aff1983a",
   "metadata": {},
   "source": [
    "le nombre optimal est ~ 75"
   ]
  },
  {
   "cell_type": "code",
   "execution_count": 34,
   "id": "07e68ab9-22ac-445d-be8b-280178bb29b9",
   "metadata": {},
   "outputs": [],
   "source": [
    "# Réduction de la dimension en utilisant PCA\n",
    "pca = PCA(n_components=75, whiten=True)\n",
    "X_train_pca = pca.fit_transform(X_train)\n",
    "X_test_pca = pca.transform(X_test)\n"
   ]
  },
  {
   "cell_type": "code",
   "execution_count": 35,
   "id": "247d8966-4905-49ae-a894-7b6028644f3c",
   "metadata": {},
   "outputs": [
    {
     "name": "stdout",
     "output_type": "stream",
     "text": [
      "Accuracy KNN :  0.9559047619047619\n"
     ]
    }
   ],
   "source": [
    "# Entraînement du classifieur KNN\n",
    "knn = KNeighborsClassifier(n_neighbors=3)\n",
    "knn.fit(X_train_pca, y_train)\n",
    "y_pred_knn = knn.predict(X_test_pca)\n",
    "acc_knn = accuracy_score(y_test, y_pred_knn)\n",
    "print(\"Accuracy KNN : \", acc_knn)"
   ]
  },
  {
   "cell_type": "code",
   "execution_count": 39,
   "id": "276c1e5f-8349-4d5e-928a-7c4757eaa509",
   "metadata": {},
   "outputs": [
    {
     "name": "stdout",
     "output_type": "stream",
     "text": [
      "Accuracy régression logistique :  0.9152857142857143\n"
     ]
    }
   ],
   "source": [
    "log_reg = LogisticRegression(random_state=42, max_iter=1000, C=1 , penalty='l2')\n",
    "log_reg.fit(X_train_pca, y_train)\n",
    "y_pred_lr = log_reg.predict(X_test_pca)\n",
    "acc_lr = accuracy_score(y_test, y_pred_lr)\n",
    "print(\"Accuracy régression logistique : \", acc_lr)"
   ]
  },
  {
   "cell_type": "markdown",
   "id": "35d8f8f9-2f1d-444f-b62c-f8265e1127a4",
   "metadata": {},
   "source": [
    "------------------"
   ]
  },
  {
   "cell_type": "markdown",
   "id": "dc971bb8-7bdb-4f40-85c6-36e8446b1932",
   "metadata": {},
   "source": [
    "Il est possible que la réduction de dimension avec PCA ait enlevé des informations importantes pour la classification des images, ce qui a conduit à une diminution de la précision des modèles utilisés.\n",
    "\n",
    "En effet, la réduction de dimension avec PCA permet de réduire la complexité des données et de faciliter l'entraînement des modèles, mais cela peut également entraîner une perte d'informations importantes pour la tâche de classification. De plus, la sélection du nombre de composantes principales à conserver peut avoir un impact important sur les performances des modèles, et il est possible que la valeur choisie n'ait pas été optimale dans ce cas précis.\n",
    "\n",
    "Il est également possible que les modèles choisis (k-NN et régression logistique) ne soient pas les plus adaptés pour cette tâche, et que d'autres algorithmes plus complexes (par exemple, les réseaux de neurones convolutifs) puissent obtenir de meilleures performances sur ces données."
   ]
  },
  {
   "cell_type": "markdown",
   "id": "cbe22a65-5dc5-40e6-a335-c9c755052813",
   "metadata": {},
   "source": [
    "---------------------"
   ]
  },
  {
   "cell_type": "code",
   "execution_count": 56,
   "id": "502fc0b5-316e-4704-8813-8c23f8ca4f7e",
   "metadata": {},
   "outputs": [
    {
     "data": {
      "image/png": "[encoded data removed]",
      "text/plain": [
       "<Figure size 800x200 with 4 Axes>"
      ]
     },
     "metadata": {},
     "output_type": "display_data"
    }
   ],
   "source": [
    "# Visualiser les images après la PCA\n",
    "fig, axes = plt.subplots(nrows=1, ncols=4, figsize=(8, 2))\n",
    "\n",
    "for i, ax in enumerate(axes.flat):\n",
    "    ax.imshow(X_pca[i].reshape(5, 15), cmap='gray')\n",
    "    ax.set_title(\"Image {} après PCA\".format(i+1))\n",
    "    ax.axis('off')\n",
    "\n",
    "plt.tight_layout()\n",
    "plt.show()\n"
   ]
  },
  {
   "cell_type": "markdown",
   "id": "6c7a4800-b951-4700-b72c-1c70212b5d80",
   "metadata": {},
   "source": [
    "Lorsqu'on applique PCA sur les images, on peut perdre une partie des détails et des informations fines, ce qui peut rendre les images floues et moins nettes. Cela peut être une raison pour laquelle l'accuracy est plus basse après avoir appliqué PCA.\n",
    "\n",
    "Cependant, il est important de noter que PCA présente également de nombreux avantages. En réduisant la dimensionnalité des données, PCA permet de mieux visualiser les données, de réduire le bruit et la redondance des données, et de rendre l'apprentissage plus rapide et moins complexe pour les modèles de machine learning. De plus, en réduisant la dimensionnalité, PCA peut aider à éviter le surapprentissage (overfitting) et améliorer la généralisation des modèles."
   ]
  },
  {
   "cell_type": "code",
   "execution_count": null,
   "id": "dd321c1c-53ef-4234-b8c7-7d861c6be284",
   "metadata": {},
   "outputs": [],
   "source": []
  }
 ],
 "metadata": {
  "kernelspec": {
   "display_name": "Python 3 (ipykernel)",
   "language": "python",
   "name": "python3"
  },
  "language_info": {
   "codemirror_mode": {
    "name": "ipython",
    "version": 3
   },
   "file_extension": ".py",
   "mimetype": "text/x-python",
   "name": "python",
   "nbconvert_exporter": "python",
   "pygments_lexer": "ipython3",
   "version": "3.9.13"
  }
 },
 "nbformat": 4,
 "nbformat_minor": 5
}
